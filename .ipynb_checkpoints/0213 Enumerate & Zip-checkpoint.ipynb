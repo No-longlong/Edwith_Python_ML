{
 "cells": [
  {
   "cell_type": "markdown",
   "metadata": {},
   "source": [
    "## Enumerate & Zip\n",
    "- Enumerate: 인덱스 추출\n",
    "- Zip: list값을 병렬적으로 추출(동일 열끼리)"
   ]
  },
  {
   "cell_type": "markdown",
   "metadata": {},
   "source": [
    "### enumerate(리스트)"
   ]
  },
  {
   "cell_type": "code",
   "execution_count": 2,
   "metadata": {},
   "outputs": [
    {
     "name": "stdout",
     "output_type": "stream",
     "text": [
      "0 tic\n",
      "1 tac\n",
      "2 toc\n"
     ]
    }
   ],
   "source": [
    "for i, v in enumerate(['tic', 'tac', 'toc']):\n",
    "    print(i, v)\n",
    "    # i는 인덱스 번호, v는 리스트의 값들을 추출한다."
   ]
  },
  {
   "cell_type": "code",
   "execution_count": 4,
   "metadata": {},
   "outputs": [
    {
     "data": {
      "text/plain": [
       "[(0, 'a'), (1, 'b'), (2, 'c'), (3, 'd')]"
      ]
     },
     "execution_count": 4,
     "metadata": {},
     "output_type": "execute_result"
    }
   ],
   "source": [
    "# enumerate를 한 뒤에 리스트의 값으로 할당\n",
    "mylist = ['a', 'b', 'c', 'd']\n",
    "list(enumerate(mylist))"
   ]
  },
  {
   "cell_type": "code",
   "execution_count": 8,
   "metadata": {},
   "outputs": [
    {
     "data": {
      "text/plain": [
       "{0: 'Sangmyun',\n",
       " 1: 'University',\n",
       " 2: 'is',\n",
       " 3: 'an',\n",
       " 4: 'academic',\n",
       " 5: 'institue',\n",
       " 6: 'located',\n",
       " 7: 'in',\n",
       " 8: 'South',\n",
       " 9: 'Korea.'}"
      ]
     },
     "execution_count": 8,
     "metadata": {},
     "output_type": "execute_result"
    }
   ],
   "source": [
    "{i:j for i,j in enumerate\n",
    " ('Sangmyun University is an academic institue located in South Korea.'.split())}\n",
    "# 단어들의 위치를 뽑을 때 enumerate + dict하면 인덱스와 함께 key:value로 저장."
   ]
  },
  {
   "cell_type": "markdown",
   "metadata": {},
   "source": [
    "### zip(리스트)"
   ]
  },
  {
   "cell_type": "code",
   "execution_count": 10,
   "metadata": {},
   "outputs": [
    {
     "name": "stdout",
     "output_type": "stream",
     "text": [
      "a1 b1\n",
      "a2 b2\n",
      "a3 b3\n"
     ]
    }
   ],
   "source": [
    "alist = ['a1', 'a2', 'a3']\n",
    "blist = ['b1', 'b2', 'b3']\n",
    "for a, b in zip(alist, blist):\n",
    "    print(a, b) # 동일 column에 있는 값끼리 뽑아준다."
   ]
  },
  {
   "cell_type": "code",
   "execution_count": 11,
   "metadata": {},
   "outputs": [
    {
     "data": {
      "text/plain": [
       "[111, 222, 333]"
      ]
     },
     "execution_count": 11,
     "metadata": {},
     "output_type": "execute_result"
    }
   ],
   "source": [
    "# 리스트와 동일하게 tuple 또한 같은 index 끼리 묶음\n",
    "a, b, c = zip((1,2,3), (10,20,30), (100,200,300)) \n",
    "\n",
    "# zip과 List comprension을 같이 쓰기\n",
    "[sum(x) for x in zip((1,2,3), (10,20,30), (100,200,300))] \n",
    "# 1, 10, 100이 x의 튜플로 들어감\n",
    "# sum은 각 튜플별로 합산"
   ]
  },
  {
   "cell_type": "code",
   "execution_count": 12,
   "metadata": {},
   "outputs": [
    {
     "name": "stdout",
     "output_type": "stream",
     "text": [
      "0 a1 b1\n",
      "1 a2 b2\n",
      "2 a3 b3\n"
     ]
    }
   ],
   "source": [
    "# zip과 enumerate를 같이 쓰기\n",
    "alist = ['a1', 'a2', 'a3']\n",
    "blist = ['b1', 'b2', 'b3']\n",
    "\n",
    "for i, (a, b) in enumerate(zip(alist, blist)):\n",
    "    print(i, a, b)"
   ]
  },
  {
   "cell_type": "markdown",
   "metadata": {},
   "source": [
    "## Lambda & MapReduce\n",
    "- Lambda\n",
    "- Map Function\n",
    "- Reduce Function"
   ]
  },
  {
   "cell_type": "markdown",
   "metadata": {},
   "source": [
    "### Lambda\n",
    "- 함수 이름 없이 함수처럼 쓸 수 있는 **익명함수**, 수학의 람다 대수로부터 유래\n",
    "\n",
    "- 함수를 간단히 나타나기 위해서 사용함.\n",
    "\n",
    "- 나중에 Map과 함께 활용할 때 좋다\n",
    "\n",
    "- Python 3부터는 권장하지 않으나 여전히 많이 쓰임(판다스에서 많이 활용)"
   ]
  },
  {
   "cell_type": "code",
   "execution_count": 14,
   "metadata": {},
   "outputs": [
    {
     "name": "stdout",
     "output_type": "stream",
     "text": [
      "5\n"
     ]
    }
   ],
   "source": [
    "# 일반적인 함수 사용\n",
    "def f(x,y):\n",
    "    return x+y\n",
    "print(f(1,4))"
   ]
  },
  {
   "cell_type": "code",
   "execution_count": 15,
   "metadata": {},
   "outputs": [
    {
     "name": "stdout",
     "output_type": "stream",
     "text": [
      "5\n"
     ]
    }
   ],
   "source": [
    "# lambda 함수 사용\n",
    "f = lambda x, y: x + y # x, y 인자값이 있고 : 옆에 리턴값이 있는 형태\n",
    "# 위와 같은 익명함수를 만들고 f라는 변수에 할당\n",
    "print(f(1, 4))"
   ]
  },
  {
   "cell_type": "markdown",
   "metadata": {},
   "source": [
    "### Map function: \n",
    "- Sequence 자료형(리스트, 튜플) 하나에 function 하나하나씩 적용됨\n",
    "\n",
    "- map(function, list) - 파이썬 3에서는 **list**(map())을 반드시 해줘야 한다. "
   ]
  },
  {
   "cell_type": "code",
   "execution_count": 17,
   "metadata": {},
   "outputs": [
    {
     "name": "stdout",
     "output_type": "stream",
     "text": [
      "[1, 4, 9, 16, 25]\n"
     ]
    }
   ],
   "source": [
    "ex = [1, 2, 3, 4, 5]\n",
    "f = lambda x: x **2\n",
    "print(list(map(f, ex))) # 파이썬2는 list안붙여도 되지만 파이썬3는 반드시 list붙여야.\n",
    "# 함수가 시퀀스에 하나하나씩 적용됨"
   ]
  },
  {
   "cell_type": "code",
   "execution_count": 20,
   "metadata": {},
   "outputs": [
    {
     "name": "stdout",
     "output_type": "stream",
     "text": [
      "[2, 4, 6, 8, 10]\n"
     ]
    }
   ],
   "source": [
    "# 두개의 값을 zip처럼 쓸 수도 있다.\n",
    "ex = [1, 2, 3, 4, 5]\n",
    "f = lambda x, y: x + y\n",
    "print(list(map(f, ex, ex))) # 한번에 두개 리스트 인자를 넣으면 zip처럼 더해진다.\n",
    "# zip을 굳이 안써도 동일한 효과."
   ]
  },
  {
   "cell_type": "code",
   "execution_count": 21,
   "metadata": {},
   "outputs": [
    {
     "data": {
      "text/plain": [
       "[1, 4, 3, 16, 5]"
      ]
     },
     "execution_count": 21,
     "metadata": {},
     "output_type": "execute_result"
    }
   ],
   "source": [
    "list(map(\n",
    "lambda x: x ** 2 if x % 2 == 0 else x,\n",
    "ex))\n",
    "# 람다 또한 조건식을 쓸 수 있지만, 차이점은 반드시 else를 써줘야 한다는 것."
   ]
  },
  {
   "cell_type": "code",
   "execution_count": 26,
   "metadata": {},
   "outputs": [
    {
     "data": {
      "text/plain": [
       "[4, 16]"
      ]
     },
     "execution_count": 26,
     "metadata": {},
     "output_type": "execute_result"
    }
   ],
   "source": [
    "[value ** 2 for value in ex if value % 2 == 0]\n",
    "# 이런식으로 List comprehension으로 람다와 동일한 효과를 낸다.\n",
    "# 파이썬3에서는 이 방식을 권장한다.\n",
    "# 그러면 List Comprehension에서 else는 어떻게?"
   ]
  },
  {
   "cell_type": "code",
   "execution_count": 30,
   "metadata": {
    "scrolled": true
   },
   "outputs": [
    {
     "name": "stdout",
     "output_type": "stream",
     "text": [
      "<map object at 0x000001D443DBB4C8>\n",
      "1\n",
      "4\n",
      "9\n",
      "16\n",
      "25\n"
     ]
    }
   ],
   "source": [
    "# map에서 list를 안쓰는 경우에 호출방법\n",
    "f = lambda x: x ** 2 \n",
    "print(map(f, ex)) # 원래 print(list(map(f, ex))) 해야 함.\n",
    "for i in map(f,ex):\n",
    "    print(i)"
   ]
  },
  {
   "cell_type": "markdown",
   "metadata": {},
   "source": [
    "### Reduce function\n",
    "- map function과 달리 list에 똑같은 함수를 적용해서 통합"
   ]
  },
  {
   "cell_type": "code",
   "execution_count": 31,
   "metadata": {},
   "outputs": [],
   "source": [
    "from functools import reduce"
   ]
  },
  {
   "cell_type": "code",
   "execution_count": 32,
   "metadata": {},
   "outputs": [
    {
     "name": "stdout",
     "output_type": "stream",
     "text": [
      "15\n"
     ]
    }
   ],
   "source": [
    "print(reduce(lambda x,y:x+y,[1,2,3,4,5]))"
   ]
  },
  {
   "cell_type": "markdown",
   "metadata": {},
   "source": [
    "####  **Reduce Function** 위에 15가 나온 원리\n",
    "\n",
    "- 1과 2를 더한 3을, 3과 3을 더해서 6을, 6과 4를 더해서 10을, 10과 5를 더해서 15를 뽑아낸 것이다.\n",
    "\n",
    "- 각각의 element를 옆으로 적용해나감\n",
    "\n",
    "- map과 reduce는 같이 사용될 것\n",
    "\n",
    "- pandas에서 특히 유용하게 사용될 것"
   ]
  },
  {
   "cell_type": "code",
   "execution_count": 39,
   "metadata": {},
   "outputs": [
    {
     "data": {
      "text/plain": [
       "120"
      ]
     },
     "execution_count": 39,
     "metadata": {},
     "output_type": "execute_result"
    }
   ],
   "source": [
    "# factorial 함수도 reduce를 쓰면 굉장히 쉽게 구한다.\n",
    "def factorial(n):\n",
    "    return reduce(\n",
    "        lambda x, y: x*y, range(1, n+1))\n",
    "factorial(5)"
   ]
  }
 ],
 "metadata": {
  "kernelspec": {
   "display_name": "Python 3",
   "language": "python",
   "name": "python3"
  },
  "language_info": {
   "codemirror_mode": {
    "name": "ipython",
    "version": 3
   },
   "file_extension": ".py",
   "mimetype": "text/x-python",
   "name": "python",
   "nbconvert_exporter": "python",
   "pygments_lexer": "ipython3",
   "version": "3.7.4"
  }
 },
 "nbformat": 4,
 "nbformat_minor": 2
}
