{
 "cells": [
  {
   "cell_type": "markdown",
   "metadata": {},
   "source": [
    "# 1. Pythonic Code"
   ]
  },
  {
   "cell_type": "code",
   "execution_count": 1,
   "metadata": {},
   "outputs": [
    {
     "data": {
      "text/plain": [
       "'redbluegreenyellow'"
      ]
     },
     "execution_count": 1,
     "metadata": {},
     "output_type": "execute_result"
    }
   ],
   "source": [
    "# 예시; 여러 단어들을 하나로 붙일 때\n",
    "colors = ['red', 'blue', 'green', 'yellow']\n",
    "result = ''\n",
    "for s in colors:\n",
    "    result += s\n",
    "result"
   ]
  },
  {
   "cell_type": "markdown",
   "metadata": {},
   "source": [
    "위의 방법을 파이썬에서는 더 간단히 나타낼 수 있다."
   ]
  },
  {
   "cell_type": "code",
   "execution_count": 2,
   "metadata": {},
   "outputs": [
    {
     "data": {
      "text/plain": [
       "'redbluegreenyellow'"
      ]
     },
     "execution_count": 2,
     "metadata": {},
     "output_type": "execute_result"
    }
   ],
   "source": [
    "colors = ['red', 'blue', 'green', 'yellow']\n",
    "result = ''.join(colors)\n",
    "result"
   ]
  },
  {
   "cell_type": "markdown",
   "metadata": {},
   "source": [
    "Pythonic Code라 함은 파이썬 특유의 문법을 사용하는 것\n",
    "이는 남의 코드를 이해함에도 큰 도움이 된다.\n",
    "\n",
    "- 배우는 내용\n",
    "\n",
    "1) Split & Join (string 관련)\n",
    "\n",
    "2) List Comprehension\n",
    "\n",
    "3) Enumerate & Zip\n",
    "\n",
    "- 참고서적\n",
    "\n",
    "1) 파이썬 코딩의 기술 (길벗, 2016)\n",
    "\n",
    "2) 파이썬을 여행하는 히치하이커를 위한 안내서"
   ]
  },
  {
   "cell_type": "code",
   "execution_count": null,
   "metadata": {},
   "outputs": [],
   "source": []
  }
 ],
 "metadata": {
  "kernelspec": {
   "display_name": "Python 3",
   "language": "python",
   "name": "python3"
  },
  "language_info": {
   "codemirror_mode": {
    "name": "ipython",
    "version": 3
   },
   "file_extension": ".py",
   "mimetype": "text/x-python",
   "name": "python",
   "nbconvert_exporter": "python",
   "pygments_lexer": "ipython3",
   "version": "3.7.4"
  }
 },
 "nbformat": 4,
 "nbformat_minor": 2
}
